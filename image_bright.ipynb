{
 "cells": [
  {
   "cell_type": "code",
   "execution_count": 7,
   "id": "0ac8a8f9-ccc9-4a55-9456-4d9584184bec",
   "metadata": {},
   "outputs": [
    {
     "name": "stdout",
     "output_type": "stream",
     "text": [
      "[[228 227 227 ... 249 249 249]\n",
      " [227 227 227 ... 248 248 248]\n",
      " [227 227 227 ... 247 247 247]\n",
      " ...\n",
      " [189 180 169 ... 202 192 185]\n",
      " [199 203 181 ... 197 188 181]\n",
      " [204 202 195 ... 195 188 176]]\n",
      "[[120 120 120 ... 120 120 120]\n",
      " [120 120 120 ... 120 120 120]\n",
      " [120 120 120 ... 120 120 120]\n",
      " ...\n",
      " [120 120 120 ... 120 120 120]\n",
      " [120 120 120 ... 120 120 120]\n",
      " [120 120 120 ... 120 120 120]]\n",
      "[[255 255 255 ... 255 255 255]\n",
      " [255 255 255 ... 255 255 255]\n",
      " [255 255 255 ... 255 255 255]\n",
      " ...\n",
      " [255 255 255 ... 255 255 255]\n",
      " [255 255 255 ... 255 255 255]\n",
      " [255 255 255 ... 255 255 255]]\n",
      "[[ 92  91  91 ... 113 113 113]\n",
      " [ 91  91  91 ... 112 112 112]\n",
      " [ 91  91  91 ... 111 111 111]\n",
      " ...\n",
      " [ 53  44  33 ...  66  56  49]\n",
      " [ 63  67  45 ...  61  52  45]\n",
      " [ 68  66  59 ...  59  52  40]]\n"
     ]
    }
   ],
   "source": [
    "import cv2\n",
    "import numpy as np\n",
    "\n",
    "image = cv2.imread('images/input.jpg', 0)\n",
    "#0 signifies loading a grayscale image \n",
    "cv2.imshow(\"original\",image)\n",
    "print(image)\n",
    "# creating a  mask that needs to be added to the original image\n",
    "# This gives a matrix with same dimesions of our image with all values being 120\n",
    "mask = np.ones(image.shape, dtype = \"uint8\") * 120 \n",
    "print(mask)\n",
    "\n",
    "# increasing the brightness\n",
    "inc_bright = cv2.add(image, mask)\n",
    "cv2.imshow(\"brightness increased\", inc_bright)\n",
    "print(inc_bright)\n",
    "# direct method\n",
    "added2 = image + mask\n",
    "cv2.imshow(\"Added 2\", added2)\n",
    "print(added2)\n",
    "# we notice that in direct method it does not have a max ceiling value instead \n",
    "# restarts the pixel value from 0 once it exceeds 255\n",
    "cv2.waitKey(0)\n",
    "cv2.destroyAllWindows()"
   ]
  },
  {
   "cell_type": "code",
   "execution_count": null,
   "id": "f2fd85c2-4dfc-4a3f-a93f-fd8af3958a89",
   "metadata": {},
   "outputs": [],
   "source": []
  }
 ],
 "metadata": {
  "kernelspec": {
   "display_name": "Python 3 (ipykernel)",
   "language": "python",
   "name": "python3"
  },
  "language_info": {
   "codemirror_mode": {
    "name": "ipython",
    "version": 3
   },
   "file_extension": ".py",
   "mimetype": "text/x-python",
   "name": "python",
   "nbconvert_exporter": "python",
   "pygments_lexer": "ipython3",
   "version": "3.9.12"
  }
 },
 "nbformat": 4,
 "nbformat_minor": 5
}
